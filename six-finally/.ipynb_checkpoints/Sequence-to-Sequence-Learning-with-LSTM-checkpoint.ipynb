{
 "cells": [
  {
   "cell_type": "code",
   "execution_count": 1,
   "id": "87bef610",
   "metadata": {},
   "outputs": [],
   "source": [
    "import os\n",
    "import torch\n",
    "import torch.nn as nn\n",
    "import torch.optim as optim\n",
    "import random\n",
    "import numpy as np\n",
    "import spacy\n",
    "import datasets\n",
    "import torchtext\n",
    "import tqdm\n",
    "import evaluate"
   ]
  },
  {
   "cell_type": "code",
   "execution_count": 2,
   "id": "a519ea0a",
   "metadata": {},
   "outputs": [],
   "source": [
    "seed = 1234\n",
    "\n",
    "random.seed(seed)\n",
    "np.random.seed(seed)\n",
    "torch.manual_seed(seed)\n",
    "torch.cuda.manual_seed(seed)\n",
    "torch.backends.cudnn.deterministic = True"
   ]
  },
  {
   "cell_type": "markdown",
   "id": "d37bb95c",
   "metadata": {},
   "source": [
    "## 数据集 Dataset\n",
    "### 1、添加一个Markdown单元格，在其中解释下方单元格的两行代码。\n",
    "设置 os.environ['HF_ENDPOINT'] = \\\\'https://hf-mirror.com' ，这样做具体改变了什么？\n",
    "为什么要设置HF_ENDPOINT=\\\\'https://hf-mirror.com'而非直接使用官方源？\n",
    "dataset = datasets.load_dataset(\\\"bentrevett/multi30k\\\") 这行代码具体完成了什么操作？\n",
    "1.这会将Hugging Face库的默认API端点从官方源 https://huggingface.co 改为镜像站 https://hf-mirror.com \n",
    "2.原因：在中国大陆访问官方源可能速度较慢或不稳定、镜像站通常部署在国内服务器，下载速度更快、避免因网络问题导致长时间等待或中断\n",
    "3.数据集定位、自动下载、数据处理、返回一个 DatasetDict 对象"
   ]
  },
  {
   "cell_type": "code",
   "execution_count": 3,
   "id": "6a818e99",
   "metadata": {},
   "outputs": [],
   "source": [
    "os.environ['HF_ENDPOINT'] = 'https://hf-mirror.com'\n",
    "dataset = datasets.load_dataset(\"bentrevett/multi30k\")"
   ]
  },
  {
   "cell_type": "markdown",
   "id": "ec134047",
   "metadata": {},
   "source": [
    "### 2、运行下方的单元格。\n",
    "你会看到数据集对象（一个DatasetDict）包含训练、验证和测试集，每个集合中的样本数量，以及每个集合中的特征（“en”和“de”）。"
   ]
  },
  {
   "cell_type": "code",
   "execution_count": 4,
   "id": "e2f14bd0",
   "metadata": {},
   "outputs": [
    {
     "data": {
      "text/plain": [
       "DatasetDict({\n",
       "    train: Dataset({\n",
       "        features: ['en', 'de'],\n",
       "        num_rows: 29000\n",
       "    })\n",
       "    validation: Dataset({\n",
       "        features: ['en', 'de'],\n",
       "        num_rows: 1014\n",
       "    })\n",
       "    test: Dataset({\n",
       "        features: ['en', 'de'],\n",
       "        num_rows: 1000\n",
       "    })\n",
       "})"
      ]
     },
     "execution_count": 4,
     "metadata": {},
     "output_type": "execute_result"
    }
   ],
   "source": [
    "dataset"
   ]
  },
  {
   "cell_type": "code",
   "execution_count": 5,
   "id": "86c28fb4-d652-4629-a534-0b99c999369f",
   "metadata": {},
   "outputs": [],
   "source": [
    "train_data, valid_data, test_data = (\n",
    "    dataset[\"train\"],\n",
    "    dataset[\"validation\"],\n",
    "    dataset[\"test\"],\n",
    ")"
   ]
  },
  {
   "cell_type": "markdown",
   "id": "1f58a8ce-9f42-4658-9cc9-ded056558817",
   "metadata": {},
   "source": [
    "### 3、运行下方的单元格。\n",
    "我们可以索引每个数据集来查看单个示例。每个例子都有两个特征：“en”和“de”，是对应的英语和德语。"
   ]
  },
  {
   "cell_type": "code",
   "execution_count": 6,
   "id": "3c7fe8dd-52e9-43b4-b4aa-506686bb0f82",
   "metadata": {},
   "outputs": [
    {
     "data": {
      "text/plain": [
       "{'en': 'Two young, White males are outside near many bushes.',\n",
       " 'de': 'Zwei junge weiße Männer sind im Freien in der Nähe vieler Büsche.'}"
      ]
     },
     "execution_count": 6,
     "metadata": {},
     "output_type": "execute_result"
    }
   ],
   "source": [
    "train_data[0]"
   ]
  },
  {
   "cell_type": "markdown",
   "id": "27bcde06-8a52-40c9-a51b-eefa1d29dd66",
   "metadata": {},
   "source": [
    "接下来我们进行分词。英语/德语的分词较中文要直接，比如句子\"good morning!会被分词为[\"good\", \"morning\", \"!\"]序列。\n",
    "下方的代码要成功安装en_core_web_sm和de_core_news_sm后才不会报错。"
   ]
  },
  {
   "cell_type": "markdown",
   "id": "7509ed42-bbbc-46e4-ae05-c481b7b00195",
   "metadata": {},
   "source": [
    "### 分词器 Tokenizers"
   ]
  },
  {
   "cell_type": "code",
   "execution_count": 7,
   "id": "1661cbfd-3194-4ec7-b587-16a73d2b60ec",
   "metadata": {},
   "outputs": [],
   "source": [
    "en_nlp = spacy.load(\"en_core_web_sm\")\n",
    "de_nlp = spacy.load(\"de_core_news_sm\")"
   ]
  },
  {
   "cell_type": "markdown",
   "id": "12de89f2-cff3-475b-a5ec-4982a8dbbebd",
   "metadata": {},
   "source": [
    "### 4、运行下方的单元格。\n",
    "我们可以使用.tokenizer方法调用每个spaCy模型的分词器，该方法接受字符串并返回Token对象序列。我们可以使用text属性从Token对象中获取字符串。"
   ]
  },
  {
   "cell_type": "code",
   "execution_count": 8,
   "id": "7ef6a326-8e7a-4685-a720-6e22d5ea67d5",
   "metadata": {},
   "outputs": [
    {
     "data": {
      "text/plain": [
       "['What', 'a', 'lovely', 'day', 'it', 'is', 'today', '!']"
      ]
     },
     "execution_count": 8,
     "metadata": {},
     "output_type": "execute_result"
    }
   ],
   "source": [
    "string = \"What a lovely day it is today!\"\n",
    "\n",
    "[token.text for token in en_nlp.tokenizer(string)]"
   ]
  },
  {
   "cell_type": "markdown",
   "id": "524804ae-793f-41a9-a269-ceefd6e72797",
   "metadata": {},
   "source": [
    "### 5、添加一个Markdown单元格，在其中解释下方单元格的函数的作用。\n",
    "是一个用于处理 双语平行语料（英语-德语） 的文本预处理函数"
   ]
  },
  {
   "cell_type": "code",
   "execution_count": 9,
   "id": "98f484c6-3d14-4abf-a867-54da1d23fdab",
   "metadata": {},
   "outputs": [],
   "source": [
    "def tokenize_example(example, en_nlp, de_nlp, max_length, lower, sos_token, eos_token):\n",
    "    en_tokens = [token.text for token in en_nlp.tokenizer(example[\"en\"])][:max_length]\n",
    "    de_tokens = [token.text for token in de_nlp.tokenizer(example[\"de\"])][:max_length]\n",
    "    if lower:\n",
    "        en_tokens = [token.lower() for token in en_tokens]\n",
    "        de_tokens = [token.lower() for token in de_tokens]\n",
    "    en_tokens = [sos_token] + en_tokens + [eos_token]\n",
    "    de_tokens = [sos_token] + de_tokens + [eos_token]\n",
    "    return {\"en_tokens\": en_tokens, \"de_tokens\": de_tokens}"
   ]
  },
  {
   "cell_type": "markdown",
   "id": "0c5e87f9-df85-415b-ac12-05c4f49ac3b6",
   "metadata": {},
   "source": [
    "### 6、添加一个Markdown单元格，在其中解释下方单元格出现的<sos>和<eos>的含义，以及map函数的作用。\n",
    "表示句子的开始，帮助模型知道何时开始生成序列。\n",
    "表示句子的结束，告诉模型何时停止生成。\n",
    "这里的 map 是 Hugging Face datasets 库提供的方法，用于 批量处理数据集中的每个样本。"
   ]
  },
  {
   "cell_type": "code",
   "execution_count": 10,
   "id": "211c63d3-b8fb-4f8b-8e81-1e0393326f33",
   "metadata": {},
   "outputs": [
    {
     "data": {
      "application/vnd.jupyter.widget-view+json": {
       "model_id": "4d04063f41a844aa87024e2bb35cda3b",
       "version_major": 2,
       "version_minor": 0
      },
      "text/plain": [
       "Map:   0%|          | 0/1000 [00:00<?, ? examples/s]"
      ]
     },
     "metadata": {},
     "output_type": "display_data"
    }
   ],
   "source": [
    "max_length = 1_000\n",
    "lower = True\n",
    "sos_token = \"<sos>\"\n",
    "eos_token = \"<eos>\"\n",
    "\n",
    "fn_kwargs = {\n",
    "    \"en_nlp\": en_nlp,\n",
    "    \"de_nlp\": de_nlp,\n",
    "    \"max_length\": max_length,\n",
    "    \"lower\": lower,\n",
    "    \"sos_token\": sos_token,\n",
    "    \"eos_token\": eos_token,\n",
    "}\n",
    "\n",
    "train_data = train_data.map(tokenize_example, fn_kwargs=fn_kwargs)\n",
    "valid_data = valid_data.map(tokenize_example, fn_kwargs=fn_kwargs)\n",
    "test_data = test_data.map(tokenize_example, fn_kwargs=fn_kwargs)"
   ]
  },
  {
   "cell_type": "markdown",
   "id": "c94a9fc6-dea6-4f43-9145-922d634972ef",
   "metadata": {},
   "source": [
    "### 7、运行下方的单元格\n",
    "重新打印train_data[0]，验证小写字符串列表以及序列标记的开始/结束符已被成功添加。"
   ]
  },
  {
   "cell_type": "code",
   "execution_count": 11,
   "id": "70141396-38eb-4e56-9da9-375ba27ba68d",
   "metadata": {},
   "outputs": [
    {
     "data": {
      "text/plain": [
       "{'en': 'Two young, White males are outside near many bushes.',\n",
       " 'de': 'Zwei junge weiße Männer sind im Freien in der Nähe vieler Büsche.',\n",
       " 'en_tokens': ['<sos>',\n",
       "  'two',\n",
       "  'young',\n",
       "  ',',\n",
       "  'white',\n",
       "  'males',\n",
       "  'are',\n",
       "  'outside',\n",
       "  'near',\n",
       "  'many',\n",
       "  'bushes',\n",
       "  '.',\n",
       "  '<eos>'],\n",
       " 'de_tokens': ['<sos>',\n",
       "  'zwei',\n",
       "  'junge',\n",
       "  'weiße',\n",
       "  'männer',\n",
       "  'sind',\n",
       "  'im',\n",
       "  'freien',\n",
       "  'in',\n",
       "  'der',\n",
       "  'nähe',\n",
       "  'vieler',\n",
       "  'büsche',\n",
       "  '.',\n",
       "  '<eos>']}"
      ]
     },
     "execution_count": 11,
     "metadata": {},
     "output_type": "execute_result"
    }
   ],
   "source": [
    "train_data[0]"
   ]
  },
  {
   "cell_type": "markdown",
   "id": "4e22cba0-9f5e-48ef-b0c1-5b8f3595aa75",
   "metadata": {},
   "source": [
    "### 词汇表 Vocabularies\n",
    "下一个步骤是为源语言和目标语言构建词汇表，将词语映射为数字索引。比如\"hello\" = 1, \"world\" = 2, \"bye\" = 3, \"hates\" = 4。当向我们的模型提供文本数据时，我们使用词汇表作为look-up-table将字符串转换为标记，然后将标记转换为数字。“hello world”变成了“[“hello”，“world”]”，然后变成了“[1,2]”。"
   ]
  },
  {
   "cell_type": "code",
   "execution_count": 12,
   "id": "229a8633-1f87-43a3-aabd-e3278b880467",
   "metadata": {},
   "outputs": [],
   "source": [
    "min_freq = 2\n",
    "unk_token = \"<unk>\"\n",
    "pad_token = \"<pad>\"\n",
    "\n",
    "special_tokens = [\n",
    "    unk_token,\n",
    "    pad_token,\n",
    "    sos_token,\n",
    "    eos_token,\n",
    "]\n",
    "\n",
    "en_vocab = torchtext.vocab.build_vocab_from_iterator(\n",
    "    train_data[\"en_tokens\"],\n",
    "    min_freq=min_freq,\n",
    "    specials=special_tokens,\n",
    ")\n",
    "\n",
    "de_vocab = torchtext.vocab.build_vocab_from_iterator(\n",
    "    train_data[\"de_tokens\"],\n",
    "    min_freq=min_freq,\n",
    "    specials=special_tokens,\n",
    ")"
   ]
  },
  {
   "cell_type": "markdown",
   "id": "2dd94148-1cc9-4052-8ac5-0133f89883c9",
   "metadata": {},
   "source": [
    "### 8、运行下方两个单元格\n",
    "验证词汇表，分别打印英语词汇表和德语词汇表的前十个Token。"
   ]
  },
  {
   "cell_type": "code",
   "execution_count": 13,
   "id": "ff2f0702-f75b-42f0-859d-0ffcbf05f2b8",
   "metadata": {},
   "outputs": [
    {
     "data": {
      "text/plain": [
       "['<unk>', '<pad>', '<sos>', '<eos>', 'a', '.', 'in', 'the', 'on', 'man']"
      ]
     },
     "execution_count": 13,
     "metadata": {},
     "output_type": "execute_result"
    }
   ],
   "source": [
    "en_vocab.get_itos()[:10]"
   ]
  },
  {
   "cell_type": "code",
   "execution_count": 14,
   "id": "eb32bec4-ad4b-44fe-86e4-ee6e18c76e8f",
   "metadata": {},
   "outputs": [
    {
     "data": {
      "text/plain": [
       "['<unk>', '<pad>', '<sos>', '<eos>', '.', 'ein', 'einem', 'in', 'eine', ',']"
      ]
     },
     "execution_count": 14,
     "metadata": {},
     "output_type": "execute_result"
    }
   ],
   "source": [
    "de_vocab.get_itos()[:10]"
   ]
  },
  {
   "cell_type": "markdown",
   "id": "2ceaf490-1ed3-4afa-80ac-cec3be319631",
   "metadata": {},
   "source": [
    "### 9、运行下方的单元格\n",
    "使用get_stoi（stoi = \"string to int \"）方法获取指定的Token的索引。"
   ]
  },
  {
   "cell_type": "code",
   "execution_count": 15,
   "id": "7ea66c7c-53c8-42ae-a4f0-be59cfc41992",
   "metadata": {},
   "outputs": [
    {
     "data": {
      "text/plain": [
       "7"
      ]
     },
     "execution_count": 15,
     "metadata": {},
     "output_type": "execute_result"
    }
   ],
   "source": [
    "en_vocab[\"the\"]"
   ]
  },
  {
   "cell_type": "code",
   "execution_count": 16,
   "id": "25bb4acf-0db8-4812-abf6-bad48f0ea29c",
   "metadata": {},
   "outputs": [],
   "source": [
    "assert en_vocab[unk_token] == de_vocab[unk_token]\n",
    "assert en_vocab[pad_token] == de_vocab[pad_token]\n",
    "\n",
    "unk_index = en_vocab[unk_token]\n",
    "pad_index = en_vocab[pad_token]"
   ]
  },
  {
   "cell_type": "code",
   "execution_count": 17,
   "id": "af32ad5a-deba-413a-9ea5-0809ca9182bb",
   "metadata": {},
   "outputs": [],
   "source": [
    "en_vocab.set_default_index(unk_index)\n",
    "de_vocab.set_default_index(unk_index)"
   ]
  },
  {
   "cell_type": "markdown",
   "id": "4c956844-a89c-45d6-9d92-ad0265490e59",
   "metadata": {},
   "source": [
    "词汇表的另一个有用特性是lookup_indices方法。它接受一个Token列表并返回一个索引列表。\n",
    "\n",
    "### 10、运行下方的单元格\n",
    "观察从Token列表到索引列表的转换。"
   ]
  },
  {
   "cell_type": "code",
   "execution_count": 18,
   "id": "141fc2d6-9475-4a7c-aca2-96dbcdc19d11",
   "metadata": {},
   "outputs": [
    {
     "data": {
      "text/plain": [
       "[956, 2169, 173, 0, 821]"
      ]
     },
     "execution_count": 18,
     "metadata": {},
     "output_type": "execute_result"
    }
   ],
   "source": [
    "tokens = [\"i\", \"love\", \"watching\", \"crime\", \"shows\"]\n",
    "en_vocab.lookup_indices(tokens)"
   ]
  },
  {
   "cell_type": "markdown",
   "id": "ad476f42-26b2-4ced-8aee-f9a0972d7631",
   "metadata": {},
   "source": [
    "对应的，lookup_tokens方法使用词汇表将索引列表转换回Token列表。\n",
    "\n",
    "### 11、运行下方的单元格\n",
    "观察从索引列表到Token列表的转换。"
   ]
  },
  {
   "cell_type": "code",
   "execution_count": 19,
   "id": "5aea4875-acf5-4881-9a57-5f52afb36d6d",
   "metadata": {},
   "outputs": [
    {
     "data": {
      "text/plain": [
       "['i', 'love', 'watching', '<unk>', 'shows']"
      ]
     },
     "execution_count": 19,
     "metadata": {},
     "output_type": "execute_result"
    }
   ],
   "source": [
    "en_vocab.lookup_tokens(en_vocab.lookup_indices(tokens))"
   ]
  },
  {
   "cell_type": "markdown",
   "id": "617e6abc-d875-4c8e-9fde-2c2e476ae140",
   "metadata": {},
   "source": [
    "### 12、添加一个Markdown单元格，在其中解释为什么原本的\"crime\"被转换成了<unk>。\n",
    "词汇表中没有 \"crime\" 这个词\n",
    "\n",
    "### 13、添加一个Markdown单元格，在其中解释下方两个单元格中代码的作用。\n",
    "将分词后的文本 tokens 转换为数值 ID"
   ]
  },
  {
   "cell_type": "code",
   "execution_count": 20,
   "id": "a844f431-9e3f-4b72-ac36-f2474157f585",
   "metadata": {},
   "outputs": [],
   "source": [
    "def numericalize_example(example, en_vocab, de_vocab):\n",
    "    en_ids = en_vocab.lookup_indices(example[\"en_tokens\"])\n",
    "    de_ids = de_vocab.lookup_indices(example[\"de_tokens\"])\n",
    "    return {\"en_ids\": en_ids, \"de_ids\": de_ids}"
   ]
  },
  {
   "cell_type": "code",
   "execution_count": 21,
   "id": "228d9952-16dd-41e5-b558-b23798428c2b",
   "metadata": {},
   "outputs": [
    {
     "data": {
      "application/vnd.jupyter.widget-view+json": {
       "model_id": "ec647b68c09e4284ad467ad0fa632cdd",
       "version_major": 2,
       "version_minor": 0
      },
      "text/plain": [
       "Map:   0%|          | 0/1000 [00:00<?, ? examples/s]"
      ]
     },
     "metadata": {},
     "output_type": "display_data"
    }
   ],
   "source": [
    "fn_kwargs = {\"en_vocab\": en_vocab, \"de_vocab\": de_vocab}\n",
    "\n",
    "train_data = train_data.map(numericalize_example, fn_kwargs=fn_kwargs)\n",
    "valid_data = valid_data.map(numericalize_example, fn_kwargs=fn_kwargs)\n",
    "test_data = test_data.map(numericalize_example, fn_kwargs=fn_kwargs)"
   ]
  },
  {
   "cell_type": "markdown",
   "id": "5a4063ec-cb85-4b0c-989a-499a19f50044",
   "metadata": {},
   "source": [
    "### 14、运行下方的单元格\n",
    "重新打印train_data[0]，验证\"en_ids\" and \"de_ids\"被成功添加。"
   ]
  },
  {
   "cell_type": "code",
   "execution_count": 22,
   "id": "a601157d-274a-4a11-8099-81d13668b239",
   "metadata": {},
   "outputs": [
    {
     "data": {
      "text/plain": [
       "{'en': 'Two young, White males are outside near many bushes.',\n",
       " 'de': 'Zwei junge weiße Männer sind im Freien in der Nähe vieler Büsche.',\n",
       " 'en_tokens': ['<sos>',\n",
       "  'two',\n",
       "  'young',\n",
       "  ',',\n",
       "  'white',\n",
       "  'males',\n",
       "  'are',\n",
       "  'outside',\n",
       "  'near',\n",
       "  'many',\n",
       "  'bushes',\n",
       "  '.',\n",
       "  '<eos>'],\n",
       " 'de_tokens': ['<sos>',\n",
       "  'zwei',\n",
       "  'junge',\n",
       "  'weiße',\n",
       "  'männer',\n",
       "  'sind',\n",
       "  'im',\n",
       "  'freien',\n",
       "  'in',\n",
       "  'der',\n",
       "  'nähe',\n",
       "  'vieler',\n",
       "  'büsche',\n",
       "  '.',\n",
       "  '<eos>'],\n",
       " 'en_ids': [2, 16, 24, 15, 25, 778, 17, 57, 80, 202, 1312, 5, 3],\n",
       " 'de_ids': [2, 18, 26, 253, 30, 84, 20, 88, 7, 15, 110, 7647, 3171, 4, 3]}"
      ]
     },
     "execution_count": 22,
     "metadata": {},
     "output_type": "execute_result"
    }
   ],
   "source": [
    "train_data[0]"
   ]
  },
  {
   "cell_type": "markdown",
   "id": "3dcb2575-be05-4666-9d1f-14d01dcf6b26",
   "metadata": {},
   "source": [
    "Dataset类为我们处理的另一件事是将features转换为正确的类型。每个例子中的索引目前都是基本的Python整数。然而，为了在PyTorch中使用它们，它们需要转换为PyTorch张量。with_format方法将columns参数转换为给定的类型。这里，我们指定类型为“torch”，columns为“en_ids”和“de_ids”（我们想要转换为PyTorch张量的features）。默认情况下，with_format将删除任何不在传递给列的features列表中的features。我们希望保留这些features，这可以通过output_all_columns=True来实现。"
   ]
  },
  {
   "cell_type": "code",
   "execution_count": 23,
   "id": "d5d9fe67-d4de-4a26-8b35-3ac674b745be",
   "metadata": {},
   "outputs": [],
   "source": [
    "data_type = \"torch\"\n",
    "format_columns = [\"en_ids\", \"de_ids\"]\n",
    "\n",
    "train_data = train_data.with_format(\n",
    "    type=data_type, columns=format_columns, output_all_columns=True\n",
    ")\n",
    "\n",
    "valid_data = valid_data.with_format(\n",
    "    type=data_type,\n",
    "    columns=format_columns,\n",
    "    output_all_columns=True,\n",
    ")\n",
    "\n",
    "test_data = test_data.with_format(\n",
    "    type=data_type,\n",
    "    columns=format_columns,\n",
    "    output_all_columns=True,\n",
    ")"
   ]
  },
  {
   "cell_type": "markdown",
   "id": "fc5bc817-1243-47e0-8e98-b7667ba9b152",
   "metadata": {},
   "source": [
    "### 15、运行下方的单元格\n",
    "重新打印train_data[0]，验证“en_ids”和“de_ids”特征被转换为了张量。"
   ]
  },
  {
   "cell_type": "code",
   "execution_count": 24,
   "id": "95e82778-2f14-44e8-af73-1f91d6455f53",
   "metadata": {},
   "outputs": [
    {
     "data": {
      "text/plain": [
       "{'en_ids': tensor([   2,   16,   24,   15,   25,  778,   17,   57,   80,  202, 1312,    5,\n",
       "            3]),\n",
       " 'de_ids': tensor([   2,   18,   26,  253,   30,   84,   20,   88,    7,   15,  110, 7647,\n",
       "         3171,    4,    3]),\n",
       " 'en': 'Two young, White males are outside near many bushes.',\n",
       " 'de': 'Zwei junge weiße Männer sind im Freien in der Nähe vieler Büsche.',\n",
       " 'en_tokens': ['<sos>',\n",
       "  'two',\n",
       "  'young',\n",
       "  ',',\n",
       "  'white',\n",
       "  'males',\n",
       "  'are',\n",
       "  'outside',\n",
       "  'near',\n",
       "  'many',\n",
       "  'bushes',\n",
       "  '.',\n",
       "  '<eos>'],\n",
       " 'de_tokens': ['<sos>',\n",
       "  'zwei',\n",
       "  'junge',\n",
       "  'weiße',\n",
       "  'männer',\n",
       "  'sind',\n",
       "  'im',\n",
       "  'freien',\n",
       "  'in',\n",
       "  'der',\n",
       "  'nähe',\n",
       "  'vieler',\n",
       "  'büsche',\n",
       "  '.',\n",
       "  '<eos>']}"
      ]
     },
     "execution_count": 24,
     "metadata": {},
     "output_type": "execute_result"
    }
   ],
   "source": [
    "train_data[0]"
   ]
  },
  {
   "cell_type": "markdown",
   "id": "8c7bfb13-57ac-448e-9f13-8625e98ded77",
   "metadata": {},
   "source": [
    "### Data Loaders\n",
    "数据准备的最后一步是创建Data Loaders。可以对它们进行迭代以返回一批数据，每一批数据都是一个字典，其中包含数字化的英语和德语句子作为PyTorch张量。\n",
    "\n",
    "### 16、添加一个Markdown单元格，在其中解释下方两个单元格中的函数的作用。\n",
    "1、生成一个自定义的 collate_fn 函数，用于将一批样本整理成模型可处理的格式（填充短序列到相同长度）。\n",
    "2、创建一个 DataLoader，用于批量加载数据集并自动调用上述 collate_fn 处理数据。"
   ]
  },
  {
   "cell_type": "code",
   "execution_count": 25,
   "id": "621010da-18d0-400a-89b2-b452ea203ff7",
   "metadata": {},
   "outputs": [],
   "source": [
    "def get_collate_fn(pad_index):\n",
    "    def collate_fn(batch):\n",
    "        batch_en_ids = [example[\"en_ids\"] for example in batch]\n",
    "        batch_de_ids = [example[\"de_ids\"] for example in batch]\n",
    "        batch_en_ids = nn.utils.rnn.pad_sequence(batch_en_ids, padding_value=pad_index)\n",
    "        batch_de_ids = nn.utils.rnn.pad_sequence(batch_de_ids, padding_value=pad_index)\n",
    "        batch = {\n",
    "            \"en_ids\": batch_en_ids,\n",
    "            \"de_ids\": batch_de_ids,\n",
    "        }\n",
    "        return batch\n",
    "\n",
    "    return collate_fn"
   ]
  },
  {
   "cell_type": "code",
   "execution_count": 26,
   "id": "0cf9c169-b49d-4651-af89-ff396e93a67a",
   "metadata": {},
   "outputs": [],
   "source": [
    "def get_data_loader(dataset, batch_size, pad_index, shuffle=False):\n",
    "    collate_fn = get_collate_fn(pad_index)\n",
    "    data_loader = torch.utils.data.DataLoader(\n",
    "        dataset=dataset,\n",
    "        batch_size=batch_size,\n",
    "        collate_fn=collate_fn,\n",
    "        shuffle=shuffle,\n",
    "    )\n",
    "    return data_loader"
   ]
  },
  {
   "cell_type": "code",
   "execution_count": 27,
   "id": "254c350d-fc19-49da-a748-530388fc01a4",
   "metadata": {},
   "outputs": [],
   "source": [
    "batch_size = 128\n",
    "\n",
    "train_data_loader = get_data_loader(train_data, batch_size, pad_index, shuffle=True)\n",
    "valid_data_loader = get_data_loader(valid_data, batch_size, pad_index)\n",
    "test_data_loader = get_data_loader(test_data, batch_size, pad_index)"
   ]
  },
  {
   "cell_type": "markdown",
   "id": "e130e4a8-69cc-4969-b538-6b54925bd03a",
   "metadata": {},
   "source": [
    "### 构建模型\n",
    "我们将分三部分构建模型。编码器，解码器和封装编码器和解码器的seq2seq模型。\n",
    "\n",
    "编码器 Encoder\n",
    "首先是编码器，它是一个2层的LSTM。\n",
    "\n",
    "### 17、添加一个Markdown单元格，解释下方单元格中Encoder类的代码。\n",
    "包括输入参数，核心组件（词嵌入层、LSTM层、Dropout层），forwad函数的处理流程，和输出。\n",
    "\n",
    "输入:\n",
    "input_dim 输入词汇表的大小（即源语言的唯一 token 数量，如英语的词汇量）。\n",
    "embedding_dim 词嵌入层的维度（将每个 token ID 映射为稠密向量的维度）。\n",
    "hidden_dim LSTM 隐藏状态的维度（决定编码器的表示能力）。\n",
    "n_layers LSTM 的层数（堆叠多层以捕获更复杂特征）。\n",
    "dropout Dropout 概率（用于防止过拟合，仅在训练时生效）。\n",
    "\n",
    "核心组件:\n",
    "词嵌入层:将输入的 token ID（整数）转换为稠密向量（input_dim → embedding_dim）。\n",
    "LSTM 层:处理嵌入后的序列，逐步更新隐藏状态 (hidden 和 cell)。\n",
    "Dropout 层:在词嵌入后随机置零部分神经元（仅在训练时激活）。\n",
    "\n",
    "forward处理流程：\n",
    "输入:\n",
    "src: 形状为 [src length, batch size] 的整数张量。\n",
    "词嵌入 + Dropout:\n",
    "embedded = self.dropout(self.embedding(src))\n",
    "输出形状：[src length, batch size, embedding dim]\n",
    "LSTM 处理:\n",
    "outputs, (hidden, cell) = self.rnn(embedded)\n",
    "关键输出:\n",
    "outputs: 每个时间步的顶层隐藏状态，形状为 [src length, batch size, hidden dim]（注：单向 LSTM 时 n directions=1）。\n",
    "hidden: 最后一层的隐藏状态，形状为 [n layers, batch size, hidden dim]。\n",
    "cell: 最后一层的细胞状态，形状同 hidden。\n",
    "\n",
    "返回值:\n",
    "返回 hidden 和 cell，作为编码后的上下文向量（供解码器初始化使用）。"
   ]
  },
  {
   "cell_type": "code",
   "execution_count": 28,
   "id": "a7a5e165-5f40-4735-a2d7-0df822943069",
   "metadata": {},
   "outputs": [],
   "source": [
    "class Encoder(nn.Module):\n",
    "    def __init__(self, input_dim, embedding_dim, hidden_dim, n_layers, dropout):\n",
    "        super().__init__()\n",
    "        self.hidden_dim = hidden_dim\n",
    "        self.n_layers = n_layers\n",
    "        self.embedding = nn.Embedding(input_dim, embedding_dim)\n",
    "        self.rnn = nn.LSTM(embedding_dim, hidden_dim, n_layers, dropout=dropout)\n",
    "        self.dropout = nn.Dropout(dropout)\n",
    "\n",
    "    def forward(self, src):\n",
    "        # src = [src length, batch size]\n",
    "        embedded = self.dropout(self.embedding(src))\n",
    "        # embedded = [src length, batch size, embedding dim]\n",
    "        outputs, (hidden, cell) = self.rnn(embedded)\n",
    "        # outputs = [src length, batch size, hidden dim * n directions]\n",
    "        # hidden = [n layers * n directions, batch size, hidden dim]\n",
    "        # cell = [n layers * n directions, batch size, hidden dim]\n",
    "        # outputs are always from the top hidden layer\n",
    "        return hidden, cell"
   ]
  },
  {
   "cell_type": "markdown",
   "id": "8ab4659a-0238-4255-80fd-f7e1f8110d45",
   "metadata": {},
   "source": [
    "### 解码器 Decoder\n",
    "接下来是解码器，它需要与编码器对齐，同样是一个2层的LSTM。\n",
    "\n",
    "### 18、添加一个Markdown单元格，描述Decoder的工作流程。\n",
    "输入参数\n",
    "output_dim 目标词汇表的大小（如德语的词汇量）。\n",
    "embedding_dim 词嵌入层的维度（与编码器一致）。\n",
    "hidden_dim LSTM 隐藏状态的维度（必须与编码器一致）。\n",
    "n_layers LSTM 的层数（通常与编码器一致）。\n",
    "dropout Dropout 概率（用于正则化）。\n",
    "\n",
    "核心组件\n",
    "词嵌入层\n",
    "将目标语言的 token ID 映射为稠密向量（output_dim → embedding_dim）。\n",
    "LSTM 层\n",
    "结构与编码器相同，但输入是 上一个时间步的预测结果（或真实标签，即 Teacher Forcing）。\n",
    "使用编码器的 hidden 和 cell 初始化状态。\n",
    "全连接层\n",
    "将 LSTM 的输出 (hidden_dim) 映射到目标词汇表空间 (output_dim)，生成每个 token 的预测概率。\n",
    "Dropout 层\n",
    "在词嵌入后应用，防止过拟合。\n",
    "\n",
    "前向传播 (forward) 流程\n",
    "输入形状\n",
    "input: 当前时间步的 token ID，形状为 [batch size]（例如 [32]，批次大小为 32）。\n",
    "hidden / cell: 编码器的最终状态（或解码器上一个时间步的状态），形状为 [n layers, batch size, hidden dim]。\n",
    "调整输入维度\n",
    "input = input.unsqueeze(0)\n",
    "将 input 从 [batch size] 变为 [1, batch size]，以匹配 LSTM 的输入格式（序列长度=1）。\n",
    "词嵌入 + Dropout\n",
    "embedded = self.dropout(self.embedding(input))\n",
    "输出形状：[1, batch size, embedding dim]。\n",
    "LSTM 处理\n",
    "output, (hidden, cell) = self.rnn(embedded, (hidden, cell))\n",
    "输入: 当前时间步的嵌入向量 + 上一时间步的状态 (hidden, cell)。\n",
    "输出:\n",
    "output: 当前时间步的顶层隐藏状态，形状为 [1, batch size, hidden dim]。\n",
    "hidden / cell: 更新后的状态，形状不变。\n",
    "生成预测\n",
    "prediction = self.fc_out(output.squeeze(0))\n",
    "将 output 从 [1, batch size, hidden dim] 压缩为 [batch size, hidden dim]，再通过全连接层映射到词汇表空间。\n",
    "输出形状：[batch size, output dim]（每个样本的 token 概率分布）。\n",
    "返回值\n",
    "prediction: 当前时间步的预测结果（未归一化的 logits）。\n",
    "hidden / cell: 更新后的状态，传递给下一个时间步。\n",
    "\n",
    "输出\n",
    "prediction [batch size, output dim] 当前时间步的目标词汇概率分布（需用 softmax 转换为概率）。\n",
    "hidden [n layers, batch size, hidden dim] 更新后的隐藏状态，用于下一个时间步或注意力机制（若适用）。\n",
    "cell [n layers, batch size, hidden dim] 更新后的细胞状态（LSTM 特有）。"
   ]
  },
  {
   "cell_type": "code",
   "execution_count": 29,
   "id": "7b636666-f642-440e-9c3b-55b8d2f1b898",
   "metadata": {},
   "outputs": [],
   "source": [
    "class Decoder(nn.Module):\n",
    "    def __init__(self, output_dim, embedding_dim, hidden_dim, n_layers, dropout):\n",
    "        super().__init__()\n",
    "        self.output_dim = output_dim\n",
    "        self.hidden_dim = hidden_dim\n",
    "        self.n_layers = n_layers\n",
    "        self.embedding = nn.Embedding(output_dim, embedding_dim)\n",
    "        self.rnn = nn.LSTM(embedding_dim, hidden_dim, n_layers, dropout=dropout)\n",
    "        self.fc_out = nn.Linear(hidden_dim, output_dim)\n",
    "        self.dropout = nn.Dropout(dropout)\n",
    "\n",
    "    def forward(self, input, hidden, cell):\n",
    "        # input = [batch size]\n",
    "        # hidden = [n layers * n directions, batch size, hidden dim]\n",
    "        # cell = [n layers * n directions, batch size, hidden dim]\n",
    "        # n directions in the decoder will both always be 1, therefore:\n",
    "        # hidden = [n layers, batch size, hidden dim]\n",
    "        # context = [n layers, batch size, hidden dim]\n",
    "        input = input.unsqueeze(0)\n",
    "        # input = [1, batch size]\n",
    "        embedded = self.dropout(self.embedding(input))\n",
    "        # embedded = [1, batch size, embedding dim]\n",
    "        output, (hidden, cell) = self.rnn(embedded, (hidden, cell))\n",
    "        # output = [seq length, batch size, hidden dim * n directions]\n",
    "        # hidden = [n layers * n directions, batch size, hidden dim]\n",
    "        # cell = [n layers * n directions, batch size, hidden dim]\n",
    "        # seq length and n directions will always be 1 in this decoder, therefore:\n",
    "        # output = [1, batch size, hidden dim]\n",
    "        # hidden = [n layers, batch size, hidden dim]\n",
    "        # cell = [n layers, batch size, hidden dim]\n",
    "        prediction = self.fc_out(output.squeeze(0))\n",
    "        # prediction = [batch size, output dim]\n",
    "        return prediction, hidden, cell"
   ]
  },
  {
   "cell_type": "markdown",
   "id": "e771a6e8-9630-49bd-a0a4-bc24656174ed",
   "metadata": {},
   "source": [
    "## Seq2Seq\n",
    "### 19、添加一个Markdown单元格，解释下方单元格中Seq2Seq类的代码。\n",
    "包括forward函数的流程，以及teacher forcing机制。\n",
    "\n",
    "输入参数\n",
    "encoder 编码器实例（Encoder 类），负责将源序列编码为上下文向量。\n",
    "decoder 解码器实例（Decoder 类），负责根据上下文向量逐步生成目标序列。\n",
    "device 设备（CPU/GPU），用于分配张量（如 outputs 的存储位置）。\n",
    "\n",
    "前向传播 (forward) 流程\n",
    "步骤详解\n",
    "初始化输出张量\n",
    "创建形状为 [trg length, batch size, trg_vocab_size] 的全零张量 outputs，用于存储每个时间步的预测结果。\n",
    "编码源序列\n",
    "调用编码器：hidden, cell = self.encoder(src)\n",
    "输出 hidden 和 cell 作为解码器的初始状态。\n",
    "初始化解码输入\n",
    "解码器的第一个输入是目标序列的起始符 （即 trg[0, :]）。\n",
    "循环生成目标序列\n",
    "从时间步 t = 1 到 trg_length - 1（跳过 ）：\n",
    "返回所有预测\n",
    "返回 outputs，形状 [trg length, batch size, trg_vocab_size]，包含每个时间步的词汇概率分布。\n",
    "\n",
    "teacher forcing机制\n",
    "编码阶段：编码器将 src 压缩为 hidden 和 cell。\n",
    "解码阶段：\n",
    "初始输入：。\n",
    "循环生成：\n",
    "解码器根据当前输入和状态生成预测。\n",
    "通过 Teacher Forcing 决定下一输入来源。\n",
    "输出结果：所有时间步的预测拼接为 outputs，用于损失计算或序列生成。"
   ]
  },
  {
   "cell_type": "code",
   "execution_count": 30,
   "id": "6c43518f-15f7-4415-bb90-47b00fae9b43",
   "metadata": {},
   "outputs": [],
   "source": [
    "class Seq2Seq(nn.Module):\n",
    "    def __init__(self, encoder, decoder, device):\n",
    "        super().__init__()\n",
    "        self.encoder = encoder\n",
    "        self.decoder = decoder\n",
    "        self.device = device\n",
    "        assert (\n",
    "            encoder.hidden_dim == decoder.hidden_dim\n",
    "        ), \"Hidden dimensions of encoder and decoder must be equal!\"\n",
    "        assert (\n",
    "            encoder.n_layers == decoder.n_layers\n",
    "        ), \"Encoder and decoder must have equal number of layers!\"\n",
    "\n",
    "    def forward(self, src, trg, teacher_forcing_ratio):\n",
    "        # src = [src length, batch size]\n",
    "        # trg = [trg length, batch size]\n",
    "        # teacher_forcing_ratio is probability to use teacher forcing\n",
    "        # e.g. if teacher_forcing_ratio is 0.75 we use ground-truth inputs 75% of the time\n",
    "        batch_size = trg.shape[1]\n",
    "        trg_length = trg.shape[0]\n",
    "        trg_vocab_size = self.decoder.output_dim\n",
    "        # tensor to store decoder outputs\n",
    "        outputs = torch.zeros(trg_length, batch_size, trg_vocab_size).to(self.device)\n",
    "        # last hidden state of the encoder is used as the initial hidden state of the decoder\n",
    "        hidden, cell = self.encoder(src)\n",
    "        # hidden = [n layers * n directions, batch size, hidden dim]\n",
    "        # cell = [n layers * n directions, batch size, hidden dim]\n",
    "        # first input to the decoder is the <sos> tokens\n",
    "        input = trg[0, :]\n",
    "        # input = [batch size]\n",
    "        for t in range(1, trg_length):\n",
    "            # insert input token embedding, previous hidden and previous cell states\n",
    "            # receive output tensor (predictions) and new hidden and cell states\n",
    "            output, hidden, cell = self.decoder(input, hidden, cell)\n",
    "            # output = [batch size, output dim]\n",
    "            # hidden = [n layers, batch size, hidden dim]\n",
    "            # cell = [n layers, batch size, hidden dim]\n",
    "            # place predictions in a tensor holding predictions for each token\n",
    "            outputs[t] = output\n",
    "            # decide if we are going to use teacher forcing or not\n",
    "            teacher_force = random.random() < teacher_forcing_ratio\n",
    "            # get the highest predicted token from our predictions\n",
    "            top1 = output.argmax(1)\n",
    "            # if teacher forcing, use actual next token as next input\n",
    "            # if not, use predicted token\n",
    "            input = trg[t] if teacher_force else top1\n",
    "            # input = [batch size]\n",
    "        return outputs"
   ]
  },
  {
   "cell_type": "markdown",
   "id": "9d287bad-70bf-4902-ac90-986f9e2f5712",
   "metadata": {},
   "source": [
    "### 模型训练\n",
    "模型初始化\n",
    "\n",
    "### 20、添加注释\n",
    "分别将“# 编码器初始化”，“# 解码器初始化”，“# Seq2Seq模型整合”这三行注释加到下方单元格中正确的位"
   ]
  },
  {
   "cell_type": "code",
   "execution_count": 31,
   "id": "dbee37c9-2678-475d-84c5-ab2edee3cef1",
   "metadata": {},
   "outputs": [],
   "source": [
    "input_dim = len(de_vocab)\n",
    "output_dim = len(en_vocab)\n",
    "encoder_embedding_dim = 256\n",
    "decoder_embedding_dim = 256\n",
    "hidden_dim = 512\n",
    "n_layers = 2\n",
    "encoder_dropout = 0.5\n",
    "decoder_dropout = 0.5\n",
    "device = torch.device(\"cuda\" if torch.cuda.is_available() else \"cpu\")\n",
    "# 编码器初始化\n",
    "encoder = Encoder(\n",
    "    input_dim,\n",
    "    encoder_embedding_dim,\n",
    "    hidden_dim,\n",
    "    n_layers,\n",
    "    encoder_dropout,\n",
    ")\n",
    "# 解码器初始化\n",
    "decoder = Decoder(\n",
    "    output_dim,\n",
    "    decoder_embedding_dim,\n",
    "    hidden_dim,\n",
    "    n_layers,\n",
    "    decoder_dropout,\n",
    ")\n",
    "# Seq2Seq模型整合\n",
    "model = Seq2Seq(encoder, decoder, device).to(device)"
   ]
  },
  {
   "cell_type": "markdown",
   "id": "45834d12-edb9-4a17-a240-5ace3c3db5cd",
   "metadata": {},
   "source": [
    "权重初始化"
   ]
  },
  {
   "cell_type": "code",
   "execution_count": 32,
   "id": "fabd9394-0cd5-4607-b390-9cd0fe395d7b",
   "metadata": {},
   "outputs": [
    {
     "data": {
      "text/plain": [
       "Seq2Seq(\n",
       "  (encoder): Encoder(\n",
       "    (embedding): Embedding(7853, 256)\n",
       "    (rnn): LSTM(256, 512, num_layers=2, dropout=0.5)\n",
       "    (dropout): Dropout(p=0.5, inplace=False)\n",
       "  )\n",
       "  (decoder): Decoder(\n",
       "    (embedding): Embedding(5893, 256)\n",
       "    (rnn): LSTM(256, 512, num_layers=2, dropout=0.5)\n",
       "    (fc_out): Linear(in_features=512, out_features=5893, bias=True)\n",
       "    (dropout): Dropout(p=0.5, inplace=False)\n",
       "  )\n",
       ")"
      ]
     },
     "execution_count": 32,
     "metadata": {},
     "output_type": "execute_result"
    }
   ],
   "source": [
    "def init_weights(m):\n",
    "    for name, param in m.named_parameters():\n",
    "        nn.init.uniform_(param.data, -0.08, 0.08)\n",
    "\n",
    "\n",
    "model.apply(init_weights)"
   ]
  },
  {
   "cell_type": "code",
   "execution_count": 33,
   "id": "b3850c69-73d0-4bc0-8bc0-ca43daab41dc",
   "metadata": {},
   "outputs": [
    {
     "name": "stdout",
     "output_type": "stream",
     "text": [
      "The model has 13,898,501 trainable parameters\n"
     ]
    }
   ],
   "source": [
    "def count_parameters(model):\n",
    "    return sum(p.numel() for p in model.parameters() if p.requires_grad)\n",
    "\n",
    "\n",
    "print(f\"The model has {count_parameters(model):,} trainable parameters\")"
   ]
  },
  {
   "cell_type": "markdown",
   "id": "849bcdaf-70a3-41fd-90b1-d245a5a69272",
   "metadata": {},
   "source": [
    "优化器 optimizer"
   ]
  },
  {
   "cell_type": "code",
   "execution_count": 34,
   "id": "32345919-1504-4fd8-91d9-28af17c918a1",
   "metadata": {},
   "outputs": [],
   "source": [
    "optimizer = optim.Adam(model.parameters())"
   ]
  },
  {
   "cell_type": "markdown",
   "id": "ffdde3d8-e3cb-4a04-9a97-540c338679ec",
   "metadata": {},
   "source": [
    "损失函数 Loss Function"
   ]
  },
  {
   "cell_type": "code",
   "execution_count": 35,
   "id": "003d5c9f-43a6-4d36-ba6b-0c4d2b7579e2",
   "metadata": {},
   "outputs": [],
   "source": [
    "criterion = nn.CrossEntropyLoss(ignore_index=pad_index)"
   ]
  },
  {
   "cell_type": "markdown",
   "id": "6b52581f-581f-4aeb-b0b8-00f90c265602",
   "metadata": {},
   "source": [
    "Training Loop:"
   ]
  },
  {
   "cell_type": "markdown",
   "id": "ba923c4b-27f1-4fde-bdfe-37e93f5429b4",
   "metadata": {},
   "source": [
    "### 21、给下方单元格中的代码逐行加注释"
   ]
  },
  {
   "cell_type": "code",
   "execution_count": 36,
   "id": "5f965949-ef3f-40c7-8d71-65148ae5d229",
   "metadata": {},
   "outputs": [],
   "source": [
    "def train_fn(\n",
    "    model,           # Seq2Seq模型实例\n",
    "    data_loader,     # 数据加载器，提供训练批次数据\n",
    "    optimizer,       # 优化器（如Adam）\n",
    "    criterion,       # 损失函数（如交叉熵损失）\n",
    "    clip,            # 梯度裁剪阈值\n",
    "    teacher_forcing_ratio,  # 使用真实标签的比例（0.0~1.0）\n",
    "    device           # 计算设备（CPU/GPU）\n",
    "):\n",
    "    # 设置模型为训练模式（启用dropout等）\n",
    "    model.train()\n",
    "    \n",
    "    # 初始化epoch损失累加器\n",
    "    epoch_loss = 0\n",
    "    \n",
    "    # 遍历数据加载器中的每个批次\n",
    "    for i, batch in enumerate(data_loader):\n",
    "        # 将德语（源语言）数据移动到指定设备\n",
    "        src = batch[\"de_ids\"].to(device)\n",
    "        # 将英语（目标语言）数据移动到指定设备\n",
    "        trg = batch[\"en_ids\"].to(device)\n",
    "        # src形状: [源序列长度, 批次大小]\n",
    "        # trg形状: [目标序列长度, 批次大小]\n",
    "        \n",
    "        # 清空优化器的梯度缓存\n",
    "        optimizer.zero_grad()\n",
    "        \n",
    "        # 前向传播：获取模型输出\n",
    "        output = model(src, trg, teacher_forcing_ratio)\n",
    "        # output形状: [目标序列长度, 批次大小, 目标词汇表大小]\n",
    "        \n",
    "        # 获取输出维度（目标词汇表大小）\n",
    "        output_dim = output.shape[-1]\n",
    "        \n",
    "        # 重塑输出（忽略第一个<sos>标记，并展平批次和序列维度）\n",
    "        output = output[1:].view(-1, output_dim)\n",
    "        # 新形状: [(目标序列长度-1)*批次大小, 目标词汇表大小]\n",
    "        \n",
    "        # 重塑目标序列（同样忽略第一个<sos>标记）\n",
    "        trg = trg[1:].view(-1)\n",
    "        # 新形状: [(目标序列长度-1)*批次大小]\n",
    "        \n",
    "        # 计算损失（预测结果 vs 真实标签）\n",
    "        loss = criterion(output, trg)\n",
    "        \n",
    "        # 反向传播：计算梯度\n",
    "        loss.backward()\n",
    "        \n",
    "        # 梯度裁剪（防止梯度爆炸）\n",
    "        torch.nn.utils.clip_grad_norm_(model.parameters(), clip)\n",
    "        \n",
    "        # 更新模型参数\n",
    "        optimizer.step()\n",
    "        \n",
    "        # 累加当前批次的损失\n",
    "        epoch_loss += loss.item()\n",
    "    \n",
    "    # 返回整个epoch的平均损失\n",
    "    return epoch_loss / len(data_loader)"
   ]
  },
  {
   "cell_type": "markdown",
   "id": "8df0d1bb-c1fe-4f3a-8ae6-4c296efdb583",
   "metadata": {},
   "source": [
    "Evaluation Loop:"
   ]
  },
  {
   "cell_type": "code",
   "execution_count": 37,
   "id": "7a69ded7-e482-41d5-b178-b89a2d540a87",
   "metadata": {},
   "outputs": [],
   "source": [
    "def evaluate_fn(model, data_loader, criterion, device):\n",
    "    model.eval()\n",
    "    epoch_loss = 0\n",
    "    with torch.no_grad():\n",
    "        for i, batch in enumerate(data_loader):\n",
    "            src = batch[\"de_ids\"].to(device)\n",
    "            trg = batch[\"en_ids\"].to(device)\n",
    "            # src = [src length, batch size]\n",
    "            # trg = [trg length, batch size]\n",
    "            output = model(src, trg, 0)  # turn off teacher forcing\n",
    "            # output = [trg length, batch size, trg vocab size]\n",
    "            output_dim = output.shape[-1]\n",
    "            output = output[1:].view(-1, output_dim)\n",
    "            # output = [(trg length - 1) * batch size, trg vocab size]\n",
    "            trg = trg[1:].view(-1)\n",
    "            # trg = [(trg length - 1) * batch size]\n",
    "            loss = criterion(output, trg)\n",
    "            epoch_loss += loss.item()\n",
    "    return epoch_loss / len(data_loader)"
   ]
  },
  {
   "cell_type": "markdown",
   "id": "d534b65f-2583-49d3-8a01-b111cf164be2",
   "metadata": {},
   "source": [
    "### 模型训练"
   ]
  },
  {
   "cell_type": "code",
   "execution_count": null,
   "id": "9c0c4e23-7f5e-4e61-b45b-79348097c304",
   "metadata": {},
   "outputs": [],
   "source": [
    "n_epochs = 1 # 因模型训练对计算资源要求较高，此处只设立了一轮训练。\n",
    "clip = 1.0\n",
    "teacher_forcing_ratio = 0.5\n",
    "\n",
    "best_valid_loss = float(\"inf\")\n",
    "\n",
    "for epoch in tqdm.tqdm(range(n_epochs)):\n",
    "    train_loss = train_fn(\n",
    "        model,\n",
    "        train_data_loader,\n",
    "        optimizer,\n",
    "        criterion,\n",
    "        clip,\n",
    "        teacher_forcing_ratio,\n",
    "        device,\n",
    "    )\n",
    "    valid_loss = evaluate_fn(\n",
    "        model,\n",
    "        valid_data_loader,\n",
    "        criterion,\n",
    "        device,\n",
    "    )\n",
    "    if valid_loss < best_valid_loss:\n",
    "        best_valid_loss = valid_loss\n",
    "        torch.save(model.state_dict(), \"tut1-model.pt\")\n",
    "    print(f\"\\tTrain Loss: {train_loss:7.3f} | Train PPL: {np.exp(train_loss):7.3f}\")\n",
    "    print(f\"\\tValid Loss: {valid_loss:7.3f} | Valid PPL: {np.exp(valid_loss):7.3f}\")"
   ]
  },
  {
   "cell_type": "markdown",
   "id": "6c40473e-8e46-4492-8c69-617969d33ba9",
   "metadata": {},
   "source": [
    "### 模型验证"
   ]
  },
  {
   "cell_type": "code",
   "execution_count": null,
   "id": "ab79ebd0-cfe4-41e6-a339-c39869db01af",
   "metadata": {},
   "outputs": [],
   "source": [
    "model.load_state_dict(torch.load(\"tut1-model.pt\"))"
   ]
  },
  {
   "cell_type": "code",
   "execution_count": null,
   "id": "dc8fa284-6ea2-4aa3-87cc-61819bddbc8b",
   "metadata": {},
   "outputs": [],
   "source": [
    "def translate_sentence(\n",
    "    sentence,\n",
    "    model,\n",
    "    en_nlp,\n",
    "    de_nlp,\n",
    "    en_vocab,\n",
    "    de_vocab,\n",
    "    lower,\n",
    "    sos_token,\n",
    "    eos_token,\n",
    "    device,\n",
    "    max_output_length=25,\n",
    "):\n",
    "    model.eval()\n",
    "    with torch.no_grad():\n",
    "        if isinstance(sentence, str):\n",
    "            tokens = [token.text for token in de_nlp.tokenizer(sentence)]\n",
    "        else:\n",
    "            tokens = [token for token in sentence]\n",
    "        if lower:\n",
    "            tokens = [token.lower() for token in tokens]\n",
    "        tokens = [sos_token] + tokens + [eos_token]\n",
    "        ids = de_vocab.lookup_indices(tokens)\n",
    "        tensor = torch.LongTensor(ids).unsqueeze(-1).to(device)\n",
    "        hidden, cell = model.encoder(tensor)\n",
    "        inputs = en_vocab.lookup_indices([sos_token])\n",
    "        for _ in range(max_output_length):\n",
    "            inputs_tensor = torch.LongTensor([inputs[-1]]).to(device)\n",
    "            output, hidden, cell = model.decoder(inputs_tensor, hidden, cell)\n",
    "            predicted_token = output.argmax(-1).item()\n",
    "            inputs.append(predicted_token)\n",
    "            if predicted_token == en_vocab[eos_token]:\n",
    "                break\n",
    "        tokens = en_vocab.lookup_tokens(inputs)\n",
    "    return tokens"
   ]
  },
  {
   "cell_type": "code",
   "execution_count": null,
   "id": "b747de1a-dd41-4642-9ccf-44ec3e70c585",
   "metadata": {},
   "outputs": [],
   "source": [
    "sentence = test_data[0][\"de\"]\n",
    "expected_translation = test_data[0][\"en\"]\n",
    "\n",
    "sentence, expected_translation"
   ]
  },
  {
   "cell_type": "code",
   "execution_count": null,
   "id": "5e06ab9a-dddd-4392-8076-da6449a31909",
   "metadata": {},
   "outputs": [],
   "source": [
    "translation = translate_sentence(\n",
    "    sentence,\n",
    "    model,\n",
    "    en_nlp,\n",
    "    de_nlp,\n",
    "    en_vocab,\n",
    "    de_vocab,\n",
    "    lower,\n",
    "    sos_token,\n",
    "    eos_token,\n",
    "    device,\n",
    ")"
   ]
  },
  {
   "cell_type": "markdown",
   "id": "5a10b3a4-4f0f-4d9a-8040-bf6290d1ef08",
   "metadata": {},
   "source": [
    "### 22、运行下方单元格，得到测试集第0个索引的翻译\n",
    "因为epoch只进行了一轮，不会有好的效果的翻译。 感兴趣的同学可自行增加训练轮数，观察loss和翻译质量的变化。"
   ]
  },
  {
   "cell_type": "code",
   "execution_count": null,
   "id": "6987669e-a845-434d-a7ab-39fc772b9356",
   "metadata": {},
   "outputs": [],
   "source": [
    "translation"
   ]
  },
  {
   "cell_type": "code",
   "execution_count": null,
   "id": "8e762746-af4f-47c9-b198-a1ce94283f0e",
   "metadata": {},
   "outputs": [],
   "source": []
  },
  {
   "cell_type": "code",
   "execution_count": null,
   "id": "6c43b45f-813c-48f9-98bd-c88af9c54de1",
   "metadata": {},
   "outputs": [],
   "source": []
  },
  {
   "cell_type": "code",
   "execution_count": null,
   "id": "4fb08d27-e5b1-4ad9-be04-ff0f653f285a",
   "metadata": {},
   "outputs": [],
   "source": []
  },
  {
   "cell_type": "code",
   "execution_count": null,
   "id": "3651eff5-371f-4218-9cf2-046e28f36d21",
   "metadata": {},
   "outputs": [],
   "source": []
  }
 ],
 "metadata": {
  "kernelspec": {
   "display_name": "nlp_homework_lhx",
   "language": "python",
   "name": "nlp_homework_lhx"
  },
  "language_info": {
   "codemirror_mode": {
    "name": "ipython",
    "version": 3
   },
   "file_extension": ".py",
   "mimetype": "text/x-python",
   "name": "python",
   "nbconvert_exporter": "python",
   "pygments_lexer": "ipython3",
   "version": "3.9.21"
  }
 },
 "nbformat": 4,
 "nbformat_minor": 5
}
