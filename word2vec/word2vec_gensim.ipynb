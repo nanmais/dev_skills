{
 "cells": [
  {
   "cell_type": "markdown",
   "id": "41f2ea8e",
   "metadata": {},
   "source": [
    "## 词向量"
   ]
  },
  {
   "cell_type": "code",
   "execution_count": 1,
   "id": "90ea46b6",
   "metadata": {},
   "outputs": [],
   "source": [
    "import pandas as pd\n",
    "import jieba\n",
    "from gensim.models.word2vec import Word2Vec"
   ]
  },
  {
   "cell_type": "markdown",
   "id": "9fb1d413",
   "metadata": {},
   "source": [
    "## 读入训练集文件"
   ]
  },
  {
   "cell_type": "code",
   "execution_count": 2,
   "id": "1fb3abf7",
   "metadata": {},
   "outputs": [],
   "source": [
    "data = pd.read_csv('train.csv')"
   ]
  },
  {
   "cell_type": "markdown",
   "id": "c24327a6",
   "metadata": {},
   "source": [
    "## 转字符串数组"
   ]
  },
  {
   "cell_type": "code",
   "execution_count": 3,
   "id": "db6f4478",
   "metadata": {},
   "outputs": [],
   "source": [
    "corpus = data['comment'].values.astype(str)"
   ]
  },
  {
   "cell_type": "markdown",
   "id": "0bd43eca",
   "metadata": {},
   "source": [
    "## 分词，再重组为字符串数组"
   ]
  },
  {
   "cell_type": "code",
   "execution_count": 4,
   "id": "b08be60d",
   "metadata": {},
   "outputs": [
    {
     "name": "stderr",
     "output_type": "stream",
     "text": [
      "Building prefix dict from the default dictionary ...\n",
      "Loading model from cache C:\\Users\\xuebin\\AppData\\Local\\Temp\\jieba.cache\n",
      "Loading model cost 0.422 seconds.\n",
      "Prefix dict has been built successfully.\n"
     ]
    }
   ],
   "source": [
    "corpus = [jieba.lcut(corpus[index]\n",
    "                          .replace(\"，\", \"\")\n",
    "                          .replace(\"!\", \"\")\n",
    "                          .replace(\"！\", \"\")\n",
    "                          .replace(\"。\", \"\")\n",
    "                          .replace(\"~\", \"\")\n",
    "                          .replace(\"；\", \"\")\n",
    "                          .replace(\"？\", \"\")\n",
    "                          .replace(\"?\", \"\")\n",
    "                          .replace(\"【\", \"\")\n",
    "                          .replace(\"】\", \"\")\n",
    "                          .replace(\"#\", \"\")\n",
    "                        ) for index in range(len(corpus))]"
   ]
  },
  {
   "cell_type": "markdown",
   "id": "02266553",
   "metadata": {},
   "source": [
    "## 词向量模型训练"
   ]
  },
  {
   "cell_type": "code",
   "execution_count": 5,
   "id": "995e705c",
   "metadata": {},
   "outputs": [],
   "source": [
    "model = Word2Vec(corpus, sg=0, vector_size=300, window=5, min_count=3, workers=4)"
   ]
  },
  {
   "cell_type": "markdown",
   "id": "d6416476",
   "metadata": {},
   "source": [
    "## 模型显示"
   ]
  },
  {
   "cell_type": "code",
   "execution_count": 6,
   "id": "934c50d9",
   "metadata": {},
   "outputs": [
    {
     "name": "stdout",
     "output_type": "stream",
     "text": [
      "模型参数： Word2Vec<vocab=4036, vector_size=300, alpha=0.025> \n",
      "\n"
     ]
    }
   ],
   "source": [
    "print('模型参数：',model,'\\n')"
   ]
  },
  {
   "cell_type": "markdown",
   "id": "01e933e0",
   "metadata": {},
   "source": [
    "## 最匹配"
   ]
  },
  {
   "cell_type": "code",
   "execution_count": 7,
   "id": "44e9871c",
   "metadata": {},
   "outputs": [
    {
     "name": "stdout",
     "output_type": "stream",
     "text": [
      "最匹配的词是： [('好找', 0.9402147531509399), ('位置', 0.9361454844474792), ('团购', 0.9241837859153748), ('值得', 0.9219162464141846), ('推荐', 0.919730007648468), ('高', 0.9145821332931519), ('热情', 0.9115123748779297), ('那儿', 0.9105688333511353), ('安静', 0.9091247916221619), ('老板娘', 0.9074435830116272)] \n",
      "\n"
     ]
    }
   ],
   "source": [
    "print('最匹配的词是：',model.wv.most_similar(positive=['点赞', '不错'], negative=['难吃']),'\\n')"
   ]
  },
  {
   "cell_type": "markdown",
   "id": "5f549c69",
   "metadata": {},
   "source": [
    "## 最不匹配"
   ]
  },
  {
   "cell_type": "code",
   "execution_count": 8,
   "id": "c0ac45af",
   "metadata": {},
   "outputs": [],
   "source": [
    "#print('最不匹配的词是：',model.wv.doesnt_match(\"点赞 好吃 支持 难吃\".split()),'\\n')"
   ]
  },
  {
   "cell_type": "markdown",
   "id": "85e867a6",
   "metadata": {},
   "source": [
    "## 语义相似度"
   ]
  },
  {
   "cell_type": "code",
   "execution_count": 9,
   "id": "121b0bc0",
   "metadata": {},
   "outputs": [
    {
     "name": "stdout",
     "output_type": "stream",
     "text": [
      "相似度为= 0.34216258 \n",
      "\n"
     ]
    }
   ],
   "source": [
    "print('相似度为=',model.wv.similarity('蟑螂','好吃'),'\\n')"
   ]
  },
  {
   "cell_type": "markdown",
   "id": "4e2078b8",
   "metadata": {},
   "source": [
    "## 坐标返回"
   ]
  },
  {
   "cell_type": "code",
   "execution_count": 10,
   "id": "a4835dab",
   "metadata": {},
   "outputs": [
    {
     "name": "stdout",
     "output_type": "stream",
     "text": [
      "[ 0.00808477  0.11281621  0.0356744   0.07155834 -0.05714677 -0.09135506\n",
      "  0.11698356  0.29744765  0.01516365 -0.03082011]\n"
     ]
    }
   ],
   "source": [
    "print(model.wv.__getitem__('地道')[:10])"
   ]
  },
  {
   "cell_type": "code",
   "execution_count": 11,
   "id": "bbd28370",
   "metadata": {},
   "outputs": [
    {
     "name": "stdout",
     "output_type": "stream",
     "text": [
      "模型参数： Word2Vec<vocab=4036, vector_size=300, alpha=0.025> \n",
      "\n"
     ]
    }
   ],
   "source": [
    "# skip-gram 算法\n",
    "model = Word2Vec(corpus, sg=1, vector_size=300, window=5, min_count=3, workers=4)\n",
    "# 模型显示\n",
    "print('模型参数：', model, '\\n')"
   ]
  },
  {
   "cell_type": "code",
   "execution_count": 12,
   "id": "87871b94",
   "metadata": {},
   "outputs": [
    {
     "name": "stdout",
     "output_type": "stream",
     "text": [
      "'环境'的词向量形状： (300,)\n"
     ]
    }
   ],
   "source": [
    "# \"环境\"的词向量形状\n",
    "print(\"'环境'的词向量形状：\", model.wv[\"环境\"].shape)"
   ]
  },
  {
   "cell_type": "code",
   "execution_count": 13,
   "id": "4b13618e",
   "metadata": {},
   "outputs": [
    {
     "name": "stdout",
     "output_type": "stream",
     "text": [
      "'环境'的词向量前10维：\n",
      " [ 0.24357712  0.17188144 -0.07867926  0.20132948 -0.09388473 -0.15197967\n",
      " -0.07276826  0.37505278 -0.23302962 -0.10054979]\n"
     ]
    }
   ],
   "source": [
    "# \"环境\"的词向量\n",
    "print(\"'环境'的词向量前10维：\\n\", model.wv[\"环境\"][:10])"
   ]
  },
  {
   "cell_type": "code",
   "execution_count": 14,
   "id": "88515b4b",
   "metadata": {},
   "outputs": [
    {
     "name": "stdout",
     "output_type": "stream",
     "text": [
      "和\"好吃\"语义最接近的三个词： [('好看', 0.8261477947235107), ('入味', 0.824834406375885), ('棒', 0.8227176666259766)] \n",
      "\n"
     ]
    }
   ],
   "source": [
    "# 和\"好吃\"语义最接近的三个词\n",
    "print('和\"好吃\"语义最接近的三个词：', model.wv.most_similar('好吃', topn=3), '\\n')"
   ]
  },
  {
   "cell_type": "code",
   "execution_count": 15,
   "id": "abe1f40c",
   "metadata": {},
   "outputs": [
    {
     "name": "stdout",
     "output_type": "stream",
     "text": [
      "\"好吃\"和\"美味\"的相似度为= 0.8203431 \n",
      "\n"
     ]
    }
   ],
   "source": [
    "# \"好吃\"和\"美味\"的相似度\n",
    "print('\"好吃\"和\"美味\"的相似度为=', model.wv.similarity('好吃', '美味'), '\\n')"
   ]
  },
  {
   "cell_type": "code",
   "execution_count": 16,
   "id": "b52703d2",
   "metadata": {},
   "outputs": [
    {
     "name": "stdout",
     "output_type": "stream",
     "text": [
      "\"好吃\"和\"蟑螂\"的相似度为= 0.28025213 \n",
      "\n"
     ]
    }
   ],
   "source": [
    "# \"好吃\"和\"蟑螂\"的相似度\n",
    "print('\"好吃\"和\"蟑螂\"的相似度为=', model.wv.similarity('好吃', '蟑螂'), '\\n')"
   ]
  },
  {
   "cell_type": "code",
   "execution_count": 17,
   "id": "2db4b73b",
   "metadata": {},
   "outputs": [
    {
     "name": "stdout",
     "output_type": "stream",
     "text": [
      "\"餐厅+聚会-安静\"最相关结果： [('家庭聚会', 0.9407486915588379)]\n"
     ]
    }
   ],
   "source": [
    "# \"餐厅+聚会-安静\"最相关结果\n",
    "print('\"餐厅+聚会-安静\"最相关结果：', model.wv.most_similar(positive=['餐厅', '聚会'], negative=['安静'], topn=1))"
   ]
  },
  {
   "cell_type": "code",
   "execution_count": null,
   "id": "838c89ab",
   "metadata": {},
   "outputs": [],
   "source": []
  }
 ],
 "metadata": {
  "kernelspec": {
   "display_name": "nlp_homework_xb",
   "language": "python",
   "name": "nlp_homework_xb"
  },
  "language_info": {
   "codemirror_mode": {
    "name": "ipython",
    "version": 3
   },
   "file_extension": ".py",
   "mimetype": "text/x-python",
   "name": "python",
   "nbconvert_exporter": "python",
   "pygments_lexer": "ipython3",
   "version": "3.9.21"
  }
 },
 "nbformat": 4,
 "nbformat_minor": 5
}
